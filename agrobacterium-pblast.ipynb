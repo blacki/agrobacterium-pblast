{
 "cells": [
  {
   "cell_type": "code",
   "execution_count": 82,
   "metadata": {
    "collapsed": false
   },
   "outputs": [],
   "source": [
    "import re\n",
    "import os\n",
    "import numpy as np\n",
    "import pandas as pd\n",
    "import itertools\n",
    "\n",
    "from IPython.display import display\n",
    "\n",
    "import matplotlib\n",
    "import matplotlib.pyplot as plt\n",
    "import seaborn as sns\n",
    "sns.set_context(\"notebook\", font_scale=1)\n",
    "matplotlib.style.use('ggplot')\n",
    "%matplotlib inline \n",
    "\n",
    "import warnings\n",
    "warnings.filterwarnings('ignore')"
   ]
  },
  {
   "cell_type": "code",
   "execution_count": 83,
   "metadata": {
    "collapsed": false
   },
   "outputs": [],
   "source": [
    "# match this pattern G[E/D]R[L/M]R[V/F]T\n",
    "m = ['G',['E','D'],'R',['L','M'],'R',['V','F'],'T']\n",
    "mp = [['E','D'],['L','M'],['V','F']]\n",
    "\n",
    "motifs = []\n",
    "for i in itertools.product(mp[0],mp[1],mp[2]):\n",
    "    motifs.append(''.join([m[0],i[0],m[2],i[1],m[4],i[2],m[6]]))\n",
    "\n",
    "# write out a file of target sequences\n",
    "!rm blast_targets.fasta \n",
    "!touch blast_targets.fasta \n",
    "for i,m in enumerate(motifs):\n",
    "    ! echo '>target'{i} >> blast_targets.fasta \n",
    "    ! echo {m} >> blast_targets.fasta "
   ]
  },
  {
   "cell_type": "markdown",
   "metadata": {
    "collapsed": true
   },
   "source": [
    "## Fetch pBLAST against Agrobacterium"
   ]
  },
  {
   "cell_type": "code",
   "execution_count": 75,
   "metadata": {
    "collapsed": false
   },
   "outputs": [],
   "source": [
    "# TODO: Get query against NCBIWWW to work instead of manually downloading the files\n",
    "# from Bio.Blast import NCBIWWW \n",
    "# result_handle = NCBIWWW.qblast(\"blastp\", \"Microbial proteins from nr\", motifs[0])\n",
    "# blast_file = open(\"Blast_Results/\"+motifs[0]+\".xml\", \"w\")  \n",
    "\n",
    "# blast_file.write(result_handle.read()) \n",
    "# blast_file.close()# tidy up\n",
    "# result_handle.close()"
   ]
  },
  {
   "cell_type": "code",
   "execution_count": 84,
   "metadata": {
    "collapsed": true
   },
   "outputs": [],
   "source": [
    "# Currently works based on first 100 results for each motif\n",
    "# https://blast.ncbi.nlm.nih.gov/Blast.cgi?PAGE_TYPE=BlastSearch&PROG_DEFAULTS=on&PROG_DEF=blastp&BLAST_SPEC=MicrobialGenomes_1435057&DB_GROUP=AllMG"
   ]
  },
  {
   "cell_type": "markdown",
   "metadata": {},
   "source": [
    "## Construct a dataframe of all the motifs"
   ]
  },
  {
   "cell_type": "code",
   "execution_count": 88,
   "metadata": {
    "collapsed": false,
    "scrolled": false
   },
   "outputs": [
    {
     "data": {
      "text/html": [
       "<div>\n",
       "<table border=\"1\" class=\"dataframe\">\n",
       "  <thead>\n",
       "    <tr style=\"text-align: right;\">\n",
       "      <th></th>\n",
       "      <th>motif</th>\n",
       "      <th>name</th>\n",
       "      <th>desc</th>\n",
       "      <th>seq</th>\n",
       "    </tr>\n",
       "  </thead>\n",
       "  <tbody>\n",
       "    <tr>\n",
       "      <th>139</th>\n",
       "      <td>GERLRFT</td>\n",
       "      <td>WP_003516634.1</td>\n",
       "      <td>WP_003516634.1 MULTISPECIES: aconitate hydrata...</td>\n",
       "      <td>MPKSLDSFHCRSVLTVDGKDYVYFSLPKAEANGLKGVSKLPYSMKV...</td>\n",
       "    </tr>\n",
       "    <tr>\n",
       "      <th>722</th>\n",
       "      <td>GDRMRFT</td>\n",
       "      <td>AHK00242.1</td>\n",
       "      <td>AHK00242.1 DNA mismatch repair protein MutS [A...</td>\n",
       "      <td>MEQYIEIKANNPGSLLFYRMGDFYELFFDDAVEASRSLGITLTKRG...</td>\n",
       "    </tr>\n",
       "    <tr>\n",
       "      <th>657</th>\n",
       "      <td>GDRMRVT</td>\n",
       "      <td>AHK03178.1</td>\n",
       "      <td>AHK03178.1 maltose operon transcriptional repr...</td>\n",
       "      <td>MAENMKLKEFAEKVGLSPTTVSRALGGYPEVREETRQRVMDAALKY...</td>\n",
       "    </tr>\n",
       "    <tr>\n",
       "      <th>761</th>\n",
       "      <td>GDRMRFT</td>\n",
       "      <td>WP_038492348.1</td>\n",
       "      <td>WP_038492348.1 MULTISPECIES: polysaccharide bi...</td>\n",
       "      <td>MQSLIKPQNLTATLMGKTGDTLLWLLAALHVTAVAILFATLLSLGE...</td>\n",
       "    </tr>\n",
       "    <tr>\n",
       "      <th>265</th>\n",
       "      <td>GERMRVT</td>\n",
       "      <td>WP_038493908.1</td>\n",
       "      <td>WP_038493908.1 MULTISPECIES: peptide ABC trans...</td>\n",
       "      <td>MSFTLRLLRSFEGAAGAIILTLLAVTALAAPLLFPGDPLSIVGEPL...</td>\n",
       "    </tr>\n",
       "    <tr>\n",
       "      <th>292</th>\n",
       "      <td>GERMRVT</td>\n",
       "      <td>AHK01130.1</td>\n",
       "      <td>AHK01130.1 ATP-dependent protease La [Agrobact...</td>\n",
       "      <td>MKGNDMTNITSAASGGIYPVLPLRDIVVFPHMIVPLFVGREKSIRA...</td>\n",
       "    </tr>\n",
       "    <tr>\n",
       "      <th>399</th>\n",
       "      <td>GERMRFT</td>\n",
       "      <td>WP_003515403.1</td>\n",
       "      <td>WP_003515403.1 MULTISPECIES: 3-deoxy-7-phospho...</td>\n",
       "      <td>MAQNWTPGSWRQKPIQQVPEYPDAAALAATEATLATYPPLVFAGEA...</td>\n",
       "    </tr>\n",
       "    <tr>\n",
       "      <th>681</th>\n",
       "      <td>GDRMRVT</td>\n",
       "      <td>WP_003516002.1</td>\n",
       "      <td>WP_003516002.1 MULTISPECIES: phosphoribosylami...</td>\n",
       "      <td>MNRRRRIYEGKAKILYEGPEPGTLIQFFKDDATAFNKKKHEVIDGK...</td>\n",
       "    </tr>\n",
       "    <tr>\n",
       "      <th>628</th>\n",
       "      <td>GDRMRVT</td>\n",
       "      <td>WP_038497356.1</td>\n",
       "      <td>WP_038497356.1 MULTISPECIES: type I secretion ...</td>\n",
       "      <td>MPLSDMTTEQWPDPNAAGTDFASWSEALQYVARHYGVPFSPGGAQQ...</td>\n",
       "    </tr>\n",
       "    <tr>\n",
       "      <th>184</th>\n",
       "      <td>GERLRFT</td>\n",
       "      <td>WP_003513631.1</td>\n",
       "      <td>WP_003513631.1 MULTISPECIES: ribosome biogenes...</td>\n",
       "      <td>MSFTVAIVGRPNVGKSTLFNRLVGKKLALVDDTPGVTRDRRPGDAK...</td>\n",
       "    </tr>\n",
       "  </tbody>\n",
       "</table>\n",
       "</div>"
      ],
      "text/plain": [
       "       motif            name  \\\n",
       "139  GERLRFT  WP_003516634.1   \n",
       "722  GDRMRFT      AHK00242.1   \n",
       "657  GDRMRVT      AHK03178.1   \n",
       "761  GDRMRFT  WP_038492348.1   \n",
       "265  GERMRVT  WP_038493908.1   \n",
       "292  GERMRVT      AHK01130.1   \n",
       "399  GERMRFT  WP_003515403.1   \n",
       "681  GDRMRVT  WP_003516002.1   \n",
       "628  GDRMRVT  WP_038497356.1   \n",
       "184  GERLRFT  WP_003513631.1   \n",
       "\n",
       "                                                  desc  \\\n",
       "139  WP_003516634.1 MULTISPECIES: aconitate hydrata...   \n",
       "722  AHK00242.1 DNA mismatch repair protein MutS [A...   \n",
       "657  AHK03178.1 maltose operon transcriptional repr...   \n",
       "761  WP_038492348.1 MULTISPECIES: polysaccharide bi...   \n",
       "265  WP_038493908.1 MULTISPECIES: peptide ABC trans...   \n",
       "292  AHK01130.1 ATP-dependent protease La [Agrobact...   \n",
       "399  WP_003515403.1 MULTISPECIES: 3-deoxy-7-phospho...   \n",
       "681  WP_003516002.1 MULTISPECIES: phosphoribosylami...   \n",
       "628  WP_038497356.1 MULTISPECIES: type I secretion ...   \n",
       "184  WP_003513631.1 MULTISPECIES: ribosome biogenes...   \n",
       "\n",
       "                                                   seq  \n",
       "139  MPKSLDSFHCRSVLTVDGKDYVYFSLPKAEANGLKGVSKLPYSMKV...  \n",
       "722  MEQYIEIKANNPGSLLFYRMGDFYELFFDDAVEASRSLGITLTKRG...  \n",
       "657  MAENMKLKEFAEKVGLSPTTVSRALGGYPEVREETRQRVMDAALKY...  \n",
       "761  MQSLIKPQNLTATLMGKTGDTLLWLLAALHVTAVAILFATLLSLGE...  \n",
       "265  MSFTLRLLRSFEGAAGAIILTLLAVTALAAPLLFPGDPLSIVGEPL...  \n",
       "292  MKGNDMTNITSAASGGIYPVLPLRDIVVFPHMIVPLFVGREKSIRA...  \n",
       "399  MAQNWTPGSWRQKPIQQVPEYPDAAALAATEATLATYPPLVFAGEA...  \n",
       "681  MNRRRRIYEGKAKILYEGPEPGTLIQFFKDDATAFNKKKHEVIDGK...  \n",
       "628  MPLSDMTTEQWPDPNAAGTDFASWSEALQYVARHYGVPFSPGGAQQ...  \n",
       "184  MSFTVAIVGRPNVGKSTLFNRLVGKKLALVDDTPGVTRDRRPGDAK...  "
      ]
     },
     "execution_count": 88,
     "metadata": {},
     "output_type": "execute_result"
    }
   ],
   "source": [
    "from Bio import SeqIO\n",
    "from Bio.Alphabet import IUPAC\n",
    "\n",
    "dataFrames = []\n",
    "\n",
    "for motif in motifs:\n",
    "    fasta_sequences = SeqIO.parse(open('Blast_Results/'+motif+'.fasta'),'fasta',alphabet=IUPAC.protein)\n",
    "    for fasta in fasta_sequences:\n",
    "        row = [motif,fasta.id, fasta.description, fasta.seq.tostring()]\n",
    "        df = pd.DataFrame(data=[row],columns=['motif','name', 'desc', 'seq'])\n",
    "        dataFrames.append(df)\n",
    "\n",
    "df = pd.concat(dataFrames,ignore_index=True)\n",
    "df.sample(10)"
   ]
  },
  {
   "cell_type": "code",
   "execution_count": 112,
   "metadata": {
    "collapsed": false
   },
   "outputs": [
    {
     "name": "stdout",
     "output_type": "stream",
     "text": [
      "[(168, 'RLT'), (37, 'ERL')]\n",
      "[(168, 'RLT'), (37, 'ERL')]\n",
      "[]\n",
      "[]\n",
      "[(169, 'DRLT'), (36, 'RL')]\n",
      "[(169, 'DRLT'), (36, 'RL')]\n",
      "[]\n",
      "[]\n"
     ]
    }
   ],
   "source": [
    "# df.iloc[0].seq\n",
    "# (G?E?RMRF?T?)\n",
    "# /(G?E?RMRF?T?)+g/\n",
    "# re.findall(regex, line)\n",
    "\n",
    "for m in motifs:\n",
    "    regex = '('+m[0]+'?'+m[1]+'?'+m[2:4]+m[5]+'?'+m[6]+'?)'\n",
    "    matches = re.finditer(regex, df.iloc[0].seq)\n",
    "    results = [(len(df.iloc[0].seq)-m.start(0),m.group(0)) for m in matches]\n",
    "    print(results)"
   ]
  },
  {
   "cell_type": "code",
   "execution_count": null,
   "metadata": {
    "collapsed": true
   },
   "outputs": [],
   "source": []
  }
 ],
 "metadata": {
  "kernelspec": {
   "display_name": "Python 2",
   "language": "python",
   "name": "python2"
  },
  "language_info": {
   "codemirror_mode": {
    "name": "ipython",
    "version": 2
   },
   "file_extension": ".py",
   "mimetype": "text/x-python",
   "name": "python",
   "nbconvert_exporter": "python",
   "pygments_lexer": "ipython2",
   "version": "2.7.11"
  }
 },
 "nbformat": 4,
 "nbformat_minor": 0
}
